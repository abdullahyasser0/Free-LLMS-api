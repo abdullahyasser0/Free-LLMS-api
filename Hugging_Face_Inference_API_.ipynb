{
  "nbformat": 4,
  "nbformat_minor": 0,
  "metadata": {
    "colab": {
      "provenance": [],
      "authorship_tag": "ABX9TyPIcgJNGgiExxZwZLugtk6L",
      "include_colab_link": true
    },
    "kernelspec": {
      "name": "python3",
      "display_name": "Python 3"
    },
    "language_info": {
      "name": "python"
    }
  },
  "cells": [
    {
      "cell_type": "markdown",
      "metadata": {
        "id": "view-in-github",
        "colab_type": "text"
      },
      "source": [
        "<a href=\"https://colab.research.google.com/github/abdullahyasser0/Free-LLMS-api/blob/main/Hugging_Face_Inference_API_.ipynb\" target=\"_parent\"><img src=\"https://colab.research.google.com/assets/colab-badge.svg\" alt=\"Open In Colab\"/></a>"
      ]
    },
    {
      "cell_type": "code",
      "source": [
        "from google.colab import userdata\n"
      ],
      "metadata": {
        "id": "zUkbpLTUnsfw"
      },
      "execution_count": 1,
      "outputs": []
    },
    {
      "cell_type": "code",
      "source": [
        "from huggingface_hub import InferenceClient\n",
        "\n"
      ],
      "metadata": {
        "id": "5uJnyF_eoH8K"
      },
      "execution_count": 2,
      "outputs": []
    },
    {
      "cell_type": "code",
      "source": [
        "client = InferenceClient(\n",
        "    provider=\"nebius\",\n",
        "    api_key=userdata.get(\"HF_TOKEN\"),\n",
        ")\n",
        "\n",
        "completion = client.chat.completions.create(\n",
        "    model=\"Qwen/Qwen3-32B\",\n",
        "    messages=[\n",
        "        {\n",
        "            \"role\": \"user\",\n",
        "            \"content\": \"What is the capital of France?\"\n",
        "        }\n",
        "    ],\n",
        ")\n",
        "\n",
        "print(completion.choices[0].message)"
      ],
      "metadata": {
        "colab": {
          "base_uri": "https://localhost:8080/"
        },
        "id": "zFy-oloGoGa0",
        "outputId": "bda1a293-6730-40cb-f865-91ae27881fba"
      },
      "execution_count": 3,
      "outputs": [
        {
          "output_type": "stream",
          "name": "stdout",
          "text": [
            "ChatCompletionOutputMessage(role='assistant', content='<think>\\nOkay, so the user is asking, \"What is the capital of France?\" Let me think about how to approach this. First, I need to recall the correct answer. I know that France is a country in Europe, and I remember from school that its capital is Paris. But wait, maybe I should double-check that. Sometimes people get confused between countries and their capitals.\\n\\nLet me think if there\\'s any other city that\\'s commonly mistaken for the capital of France. For example, Lyon is a major city in France, but I don\\'t think it\\'s the capital. Marseille is another big one, but no. Then there\\'s Nice, but again, not the capital. So Paris definitely rings a bell here. I think the Eiffel Tower is in Paris, which is a famous landmark associated with France. \\n\\nWait, just to be thorough, let me consider if there\\'s any possibility of a different capital. For example, some countries have their capitals not in the largest city, but in a specially designated one. For instance, Brazil\\'s capital is Brasília, not Rio de Janeiro or São Paulo. But France\\'s case, Paris has been the capital for a very long time, right? I think Paris has been the capital since the 10th century. So there\\'s no recent change or possible confusion there.\\n\\nAnother angle: maybe the user is a student or someone learning French geography. In that case, confirming that Paris is the capital is essential. Also, maybe they heard of Paris in the context of art, fashion, or the French Revolution. Including some additional context could be helpful, like mentioning that Paris is known as the City of Light or that it\\'s a cultural and economic hub.\\n\\nBut wait, the user\\'s question is straightforward and factual. They might just need a direct answer. However, sometimes providing a bit more information can be useful if they\\'re seeking to understand more. However, since the query is concise, maybe a simple answer is better, with perhaps a brief note about why it\\'s the capital or a well-known landmark.\\n\\nLet me check if there\\'s any recent news about France\\'s capital being changed, but I don\\'t recall anything like that. Political capitals can sometimes move, but not in this case. So Paris remains the capital. Also, in French, the capital is called \"Paris,\" so the answer is the same in both languages, which might be a point worth mentioning if the user is studying the country.\\n\\nAdditionally, thinking about the user\\'s possible next questions: they might ask about the population, major attractions, or historical significance. But since the question is only about the capital, it\\'s best to stick to that unless the user indicates they want more.\\n\\nIn summary, the answer is Paris. I should confirm that, maybe add a sentence or two about its status as the capital and perhaps reference the Eiffel Tower or the Seine River as landmarks to reinforce the answer. But again, since the question is direct, keeping it concise might be better unless the user\\'s context suggests they need more information.\\n</think>\\n\\nThe capital of France is **Paris**. It is one of the most iconic cities in the world, known for landmarks like the Eiffel Tower, the Louvre Museum, and the Seine River. Paris has been the capital of France since the 10th century and serves as the country\\'s political, economic, and cultural center.', tool_call_id=None, tool_calls=[], refusal=None, audio=None, function_call=None, reasoning_content=None)\n"
          ]
        }
      ]
    },
    {
      "cell_type": "code",
      "source": [
        "import os\n",
        "from openai import OpenAI\n",
        "\n",
        "client = OpenAI(\n",
        "    base_url=\"https://router.huggingface.co/hf-inference/models/sarvamai/sarvam-m/v1\",\n",
        "    api_key=userdata.get(\"HF_TOKEN\"),\n",
        ")\n",
        "\n",
        "completion = client.chat.completions.create(\n",
        "    model=\"sarvamai/sarvam-m\",\n",
        "    messages=[\n",
        "        {\n",
        "            \"role\": \"user\",\n",
        "            \"content\": \"What is the capital of France?\"\n",
        "        }\n",
        "    ],\n",
        ")\n",
        "\n",
        "print(completion.choices[0].message)"
      ],
      "metadata": {
        "colab": {
          "base_uri": "https://localhost:8080/"
        },
        "id": "IqdLMlO0vgTU",
        "outputId": "eda46aef-77e0-40e3-b4d5-282911f883e4"
      },
      "execution_count": 15,
      "outputs": [
        {
          "output_type": "stream",
          "name": "stdout",
          "text": [
            "ChatCompletionMessage(content='Okay, so the user is asking, \"What is the capital of France?\" Let me start by recalling what I know about France\\'s geography and major cities. I remember that Paris is a major city in France, and it\\'s one of the most famous cities in the world. But wait, is Paris actually the capital? Let me think.\\n\\nFrance is a country in Western Europe. Its capital city is often mentioned in various contexts, like history, culture, and politics. I think the capital of France has always been Paris. But maybe there was a time when it was different? Hmm. I recall some historical events where France\\'s government moved capitals temporarily, like to Versailles during the monarchy, but that was long ago. The current capital should still be Paris.\\n\\nLet me cross-check mentally. Major countries and their capitals: France - Paris, Germany - Berlin, Italy - Rome, Spain - Madrid. Yes, that seems right. Also, international references, like the Eiffel Tower is in Paris, which is a major landmark. Additionally, Paris hosts the French government buildings, including the Gaul, the presidential palace, maybe\\']. Wait, La mét douane?\\n\\nNo, that\\'s the place where they inspect international Herb at customs.\\n\\nWait, allISTERComparator\\n\\nNo, that\\'s comparing data points.', refusal=None, role='assistant', annotations=None, audio=None, function_call=None, tool_calls=None)\n"
          ]
        }
      ]
    }
  ]
}