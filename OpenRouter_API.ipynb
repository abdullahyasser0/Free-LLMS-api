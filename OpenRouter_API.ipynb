{
  "nbformat": 4,
  "nbformat_minor": 0,
  "metadata": {
    "colab": {
      "provenance": [],
      "toc_visible": true,
      "authorship_tag": "ABX9TyOYfj2XkLcHvIVQTCA+CJJ6",
      "include_colab_link": true
    },
    "kernelspec": {
      "name": "python3",
      "display_name": "Python 3"
    },
    "language_info": {
      "name": "python"
    }
  },
  "cells": [
    {
      "cell_type": "markdown",
      "metadata": {
        "id": "view-in-github",
        "colab_type": "text"
      },
      "source": [
        "<a href=\"https://colab.research.google.com/github/abdullahyasser0/Free-LLMS-api/blob/main/OpenRouter_API.ipynb\" target=\"_parent\"><img src=\"https://colab.research.google.com/assets/colab-badge.svg\" alt=\"Open In Colab\"/></a>"
      ]
    },
    {
      "cell_type": "markdown",
      "source": [
        "# [Generate OpenRouter API](https://openrouter.ai/settings/keys)\n",
        "\n",
        "---\n",
        "\n",
        "explore other models at [OpenRoute](https://openrouter.ai/models) itself"
      ],
      "metadata": {
        "id": "mol2nujvQ-DR"
      }
    },
    {
      "cell_type": "markdown",
      "source": [
        "#Imports"
      ],
      "metadata": {
        "id": "MqMEpZWXRHz-"
      }
    },
    {
      "cell_type": "code",
      "execution_count": 1,
      "metadata": {
        "colab": {
          "base_uri": "https://localhost:8080/"
        },
        "collapsed": true,
        "id": "IYNgmTVONl1A",
        "outputId": "db7668d6-09b0-4bac-f27e-54f4003e043d"
      },
      "outputs": [
        {
          "output_type": "stream",
          "name": "stdout",
          "text": [
            "Requirement already satisfied: openai in /usr/local/lib/python3.11/dist-packages (1.86.0)\n",
            "Requirement already satisfied: anyio<5,>=3.5.0 in /usr/local/lib/python3.11/dist-packages (from openai) (4.9.0)\n",
            "Requirement already satisfied: distro<2,>=1.7.0 in /usr/local/lib/python3.11/dist-packages (from openai) (1.9.0)\n",
            "Requirement already satisfied: httpx<1,>=0.23.0 in /usr/local/lib/python3.11/dist-packages (from openai) (0.28.1)\n",
            "Requirement already satisfied: jiter<1,>=0.4.0 in /usr/local/lib/python3.11/dist-packages (from openai) (0.10.0)\n",
            "Requirement already satisfied: pydantic<3,>=1.9.0 in /usr/local/lib/python3.11/dist-packages (from openai) (2.11.7)\n",
            "Requirement already satisfied: sniffio in /usr/local/lib/python3.11/dist-packages (from openai) (1.3.1)\n",
            "Requirement already satisfied: tqdm>4 in /usr/local/lib/python3.11/dist-packages (from openai) (4.67.1)\n",
            "Requirement already satisfied: typing-extensions<5,>=4.11 in /usr/local/lib/python3.11/dist-packages (from openai) (4.14.0)\n",
            "Requirement already satisfied: idna>=2.8 in /usr/local/lib/python3.11/dist-packages (from anyio<5,>=3.5.0->openai) (3.10)\n",
            "Requirement already satisfied: certifi in /usr/local/lib/python3.11/dist-packages (from httpx<1,>=0.23.0->openai) (2025.6.15)\n",
            "Requirement already satisfied: httpcore==1.* in /usr/local/lib/python3.11/dist-packages (from httpx<1,>=0.23.0->openai) (1.0.9)\n",
            "Requirement already satisfied: h11>=0.16 in /usr/local/lib/python3.11/dist-packages (from httpcore==1.*->httpx<1,>=0.23.0->openai) (0.16.0)\n",
            "Requirement already satisfied: annotated-types>=0.6.0 in /usr/local/lib/python3.11/dist-packages (from pydantic<3,>=1.9.0->openai) (0.7.0)\n",
            "Requirement already satisfied: pydantic-core==2.33.2 in /usr/local/lib/python3.11/dist-packages (from pydantic<3,>=1.9.0->openai) (2.33.2)\n",
            "Requirement already satisfied: typing-inspection>=0.4.0 in /usr/local/lib/python3.11/dist-packages (from pydantic<3,>=1.9.0->openai) (0.4.1)\n"
          ]
        }
      ],
      "source": [
        "!pip install openai"
      ]
    },
    {
      "cell_type": "code",
      "source": [
        "from google.colab import userdata\n",
        "from openai import OpenAI\n"
      ],
      "metadata": {
        "id": "WddeVIPVPTNs"
      },
      "execution_count": 4,
      "outputs": []
    },
    {
      "cell_type": "code",
      "source": [
        "client = OpenAI(\n",
        "  base_url=\"https://openrouter.ai/api/v1\",\n",
        "  api_key=userdata.get('OpenRouteApi')\n",
        ",\n",
        ")\n"
      ],
      "metadata": {
        "id": "DIeKseB6PRgC"
      },
      "execution_count": 5,
      "outputs": []
    },
    {
      "cell_type": "markdown",
      "source": [
        "# llama-4-maverick:free"
      ],
      "metadata": {
        "id": "xjFTq1eiOyKp"
      }
    },
    {
      "cell_type": "code",
      "source": [
        "\n",
        "completion = client.chat.completions.create(\n",
        "  extra_headers={\n",
        "    \"HTTP-Referer\": \"<YOUR_SITE_URL>\", # Optional. Site URL for rankings on openrouter.ai.\n",
        "    \"X-Title\": \"<YOUR_SITE_NAME>\", # Optional. Site title for rankings on openrouter.ai.\n",
        "  },\n",
        "  extra_body={},\n",
        "  model=\"meta-llama/llama-4-maverick:free\",\n",
        "  messages=[\n",
        "    {\n",
        "      \"role\": \"user\",\n",
        "      \"content\": [\n",
        "        {\n",
        "          \"type\": \"text\",\n",
        "          \"text\": \"What is in this image?\"\n",
        "        },\n",
        "        {\n",
        "          \"type\": \"image_url\",\n",
        "          \"image_url\": {\n",
        "            \"url\": \"https://upload.wikimedia.org/wikipedia/commons/thumb/d/dd/Gfp-wisconsin-madison-the-nature-boardwalk.jpg/2560px-Gfp-wisconsin-madison-the-nature-boardwalk.jpg\"\n",
        "          }\n",
        "        }\n",
        "      ]\n",
        "    }\n",
        "  ]\n",
        ")\n",
        "print(completion.choices[0].message.content)"
      ],
      "metadata": {
        "colab": {
          "base_uri": "https://localhost:8080/"
        },
        "id": "zr51F93cOyop",
        "outputId": "ed85c015-3382-4503-f0f2-280874dda50d"
      },
      "execution_count": 6,
      "outputs": [
        {
          "output_type": "stream",
          "name": "stdout",
          "text": [
            "The image depicts a serene landscape featuring a wooden boardwalk that stretches into the distance, flanked by lush green grass on either side. The grass is tall and vibrant, with some areas displaying a slightly yellowish hue.\n",
            "\n",
            "**Key Features:**\n",
            "\n",
            "* **Boardwalk:** A weathered wooden boardwalk extends from the bottom center of the image towards the horizon.\n",
            "* **Surrounding Environment:** The boardwalk is surrounded by tall, green grass that reaches up to its edges.\n",
            "* **Sky and Clouds:** Above, the sky is a brilliant blue, dotted with white clouds that add texture and depth to the scene.\n",
            "* **Trees and Bushes:** In the background, trees and bushes are visible along the horizon, creating a sense of depth and context for the scene.\n",
            "\n",
            "**Overall Impression:**\n",
            "\n",
            "The image exudes a sense of tranquility and natural beauty, inviting the viewer to step onto the boardwalk and explore the surrounding environment.\n"
          ]
        }
      ]
    },
    {
      "cell_type": "markdown",
      "source": [
        "# deepseek-chat-v3-0324:free"
      ],
      "metadata": {
        "id": "yfqB2iAxP02Y"
      }
    },
    {
      "cell_type": "code",
      "source": [
        "completion = client.chat.completions.create(\n",
        "  extra_headers={\n",
        "    \"HTTP-Referer\": \"<YOUR_SITE_URL>\", # Optional. Site URL for rankings on openrouter.ai.\n",
        "    \"X-Title\": \"<YOUR_SITE_NAME>\", # Optional. Site title for rankings on openrouter.ai.\n",
        "  },\n",
        "  extra_body={},\n",
        "  model=\"deepseek/deepseek-chat-v3-0324:free\",\n",
        "  messages=[\n",
        "    {\n",
        "      \"role\": \"user\",\n",
        "      \"content\": \"What is the meaning of life?\"\n",
        "    }\n",
        "  ]\n",
        ")\n",
        "print(completion.choices[0].message.content)"
      ],
      "metadata": {
        "colab": {
          "base_uri": "https://localhost:8080/"
        },
        "id": "Nd6E3vQHP0RY",
        "outputId": "f274cfa3-5a10-4663-8665-878562011770"
      },
      "execution_count": 7,
      "outputs": [
        {
          "output_type": "stream",
          "name": "stdout",
          "text": [
            "The question \"What is the meaning of life?\" is one of the most profound and enduring philosophical inquiries. Different traditions, philosophies, and individuals have offered varied answers over time. Here are some perspectives:\n",
            "\n",
            "### 1. **Philosophical Perspectives**  \n",
            "   - **Existentialism (e.g., Sartre, Camus):** Life has no inherent meaning; it is up to each individual to create their own purpose through choices and actions.  \n",
            "   - **Absurdism (Camus):** The search for meaning in a meaningless universe is absurd, but one must embrace life passionately anyway.  \n",
            "   - **Stoicism:** Meaning comes from living virtuously, accepting what we cannot control, and focusing on inner tranquility.  \n",
            "\n",
            "### 2. **Religious/Spiritual Perspectives**  \n",
            "   - **Theism (Christianity, Islam, Judaism, etc.):** Life’s meaning is tied to divine purpose—serving God, fulfilling a spiritual journey, or achieving salvation/enlightenment.  \n",
            "   - **Buddhism/Hinduism:** Meaning arises from self-realization, breaking free from suffering (dukkha), or merging with ultimate reality (Brahman).  \n",
            "\n",
            "### 3. **Scientific Perspectives**  \n",
            "   - **Evolutionary Biology:** Life’s \"purpose\" is survival and reproduction, but consciousness allows humans to seek higher meanings.  \n",
            "   - **Cosmology:** On a universal scale, life may be a rare fluke—meaning is ours to define.  \n",
            "\n",
            "### 4. **Personal/Pragmatic View**  \n",
            "   Many find meaning in relationships, creativity, helping others, personal growth, or leaving a legacy. Viktor Frankl’s *Man’s Search for Meaning* suggests meaning emerges from suffering, love, and purposeful work.  \n",
            "\n",
            "### Ultimate Answer?  \n",
            "There’s no single objective answer—it’s a deeply personal quest. The beauty lies in the freedom to explore, define, and redefine what gives *your* life meaning.   \n",
            "\n",
            "Would you like to explore a specific angle (e.g., science, philosophy, spirituality) further?\n"
          ]
        }
      ]
    }
  ]
}